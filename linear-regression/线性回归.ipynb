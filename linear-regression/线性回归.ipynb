{
 "cells": [
  {
   "cell_type": "markdown",
   "metadata": {},
   "source": [
    "参考： https://mp.weixin.qq.com/s/E9lMqNM8uNc57KNvnsBZGQ"
   ]
  },
  {
   "cell_type": "markdown",
   "metadata": {},
   "source": [
    "代码主体"
   ]
  },
  {
   "cell_type": "code",
   "execution_count": 15,
   "metadata": {},
   "outputs": [],
   "source": [
    "import numpy as np\n",
    "\n",
    "def linear_loss(X, y, w, b):\n",
    "    num_train = X.shape[0]\n",
    "    num_feature = X.shape[1]    \n",
    "    # 模型公式\n",
    "    y_hat = np.dot(X, w) + b    \n",
    "    # 损失函数\n",
    "    loss = np.sum((y_hat-y)**2)/num_train    \n",
    "    # 参数的偏导\n",
    "    dw = np.dot(X.T, (y_hat-y)) /num_train\n",
    "    db = np.sum((y_hat-y)) /num_train    \n",
    "    return y_hat, loss, dw, db\n"
   ]
  },
  {
   "cell_type": "code",
   "execution_count": 16,
   "metadata": {},
   "outputs": [],
   "source": [
    "#参数初始化：\n",
    "\n",
    "def initialize_params(dims):\n",
    "    w = np.zeros((dims, 1))\n",
    "    b = 0\n",
    "    return w, b"
   ]
  },
  {
   "cell_type": "code",
   "execution_count": 20,
   "metadata": {},
   "outputs": [],
   "source": [
    "\n",
    "#   基于梯度下降的模型训练过程：\n",
    "def linar_train(X, y, learning_rate, epochs):\n",
    "    w, b = initialize_params(X.shape[1])  \n",
    "    loss_list = []  \n",
    "    for i in range(1, epochs):        \n",
    "    # 计算当前预测值、损失和参数偏导\n",
    "        y_hat, loss, dw, db = linear_loss(X, y, w, b)  \n",
    "        loss_list.append(loss)      \n",
    "        # 基于梯度下降的参数更新过程\n",
    "        w += -learning_rate * dw\n",
    "        b += -learning_rate * db        \n",
    "        # 打印迭代次数和损失\n",
    "\n",
    "        if i % 10000 == 0:\n",
    "            print('epoch %d loss %f' % (i, loss)) \n",
    "               \n",
    "        # 保存参数\n",
    "        params = {            \n",
    "            'w': w,            \n",
    "            'b': b\n",
    "        }        \n",
    "        \n",
    "        # 保存梯度\n",
    "        grads = {            \n",
    "            'dw': dw,            \n",
    "            'db': db\n",
    "        }    \n",
    "            \n",
    "    return loss_list, loss, params, grads"
   ]
  },
  {
   "cell_type": "code",
   "execution_count": 21,
   "metadata": {},
   "outputs": [
    {
     "name": "stdout",
     "output_type": "stream",
     "text": [
      "X_train= (397, 10)\n",
      "X_test= (45, 10)\n",
      "y_train= (397, 1)\n",
      "y_test= (45, 1)\n"
     ]
    }
   ],
   "source": [
    "#数据准备：\n",
    "\n",
    "from sklearn.datasets import load_diabetes\n",
    "from sklearn.utils import shuffle\n",
    "\n",
    "diabetes = load_diabetes()\n",
    "data = diabetes.data\n",
    "target = diabetes.target \n",
    "\n",
    "# 打乱数据\n",
    "X, y = shuffle(data, target, random_state=13)\n",
    "X = X.astype(np.float32)\n",
    "\n",
    "# 训练集与测试集的简单划分\n",
    "offset = int(X.shape[0] * 0.9)\n",
    "X_train, y_train = X[:offset], y[:offset]\n",
    "X_test, y_test = X[offset:], y[offset:]\n",
    "y_train = y_train.reshape((-1,1))\n",
    "y_test = y_test.reshape((-1,1))\n",
    "\n",
    "print('X_train=', X_train.shape)\n",
    "print('X_test=', X_test.shape)\n",
    "print('y_train=', y_train.shape)\n",
    "print('y_test=', y_test.shape)"
   ]
  },
  {
   "cell_type": "code",
   "execution_count": 22,
   "metadata": {},
   "outputs": [
    {
     "name": "stdout",
     "output_type": "stream",
     "text": [
      "epoch 10000 loss 5533.039734\n",
      "epoch 20000 loss 5217.582409\n",
      "epoch 30000 loss 4949.676466\n",
      "epoch 40000 loss 4721.504031\n",
      "epoch 50000 loss 4526.567333\n",
      "epoch 60000 loss 4359.463960\n",
      "epoch 70000 loss 4215.700505\n",
      "epoch 80000 loss 4091.538010\n",
      "epoch 90000 loss 3983.863771\n"
     ]
    }
   ],
   "source": [
    "#执行训练：\n",
    "\n",
    "loss_list, loss, params, grads = linar_train(X_train, y_train, 0.001, 100000)\n",
    "\n"
   ]
  },
  {
   "cell_type": "code",
   "execution_count": 23,
   "metadata": {},
   "outputs": [
    {
     "data": {
      "text/plain": [
       "array([[132.02545017],\n",
       "       [141.77423134],\n",
       "       [150.48352021],\n",
       "       [128.48666753],\n",
       "       [147.29312454]])"
      ]
     },
     "execution_count": 23,
     "metadata": {},
     "output_type": "execute_result"
    }
   ],
   "source": [
    "def predict(X, params):\n",
    "    w = params['w']\n",
    "    b = params['b']\n",
    "\n",
    "    y_pred = np.dot(X, w) + b    \n",
    "    return y_pred\n",
    "\n",
    "y_pred = predict(X_test, params)\n",
    "y_pred[:5]"
   ]
  },
  {
   "cell_type": "code",
   "execution_count": 26,
   "metadata": {},
   "outputs": [
    {
     "data": {
      "text/plain": [
       "array([[ 0.00175052, -0.04464164, -0.06548562, -0.00567061, -0.00707277,\n",
       "        -0.01947649,  0.04127682, -0.03949338, -0.00330371,  0.00720652],\n",
       "       [-0.06363517, -0.04464164,  0.03582872, -0.02288496, -0.03046397,\n",
       "        -0.01885019, -0.00658447, -0.00259226, -0.02595242, -0.05492509],\n",
       "       [-0.00914709,  0.05068012, -0.03961813, -0.04009932, -0.00844872,\n",
       "         0.01622244, -0.06549067,  0.07120998,  0.01776348, -0.06735141],\n",
       "       [ 0.00175052, -0.04464164, -0.07087468, -0.02288496, -0.00156896,\n",
       "        -0.00100073,  0.02655027, -0.03949338, -0.02251217,  0.00720652],\n",
       "       [-0.10722563, -0.04464164, -0.01159501, -0.04009932,  0.04934129,\n",
       "         0.0644473 , -0.01394774,  0.03430886,  0.00702686, -0.03007245],\n",
       "       [ 0.01628068,  0.05068012,  0.00241654, -0.00567061, -0.00569682,\n",
       "         0.01089891, -0.05076412,  0.03430886,  0.02269202, -0.03835666],\n",
       "       [-0.02367725, -0.04464164, -0.01590626, -0.01255635,  0.02044629,\n",
       "         0.04127431, -0.04340085,  0.03430886,  0.01407245, -0.00936191],\n",
       "       [-0.04910501, -0.04464164,  0.00457217,  0.01154374, -0.03734373,\n",
       "        -0.01853704, -0.01762938, -0.00259226, -0.0398096 , -0.02178823],\n",
       "       [-0.00551456,  0.05068012,  0.00133873, -0.08485664, -0.01120063,\n",
       "        -0.01665815,  0.0486401 , -0.03949338, -0.04118038, -0.08806194],\n",
       "       [-0.07453278, -0.04464164, -0.0105172 , -0.00567061, -0.06623875,\n",
       "        -0.0570543 , -0.00290283, -0.03949338, -0.0425721 , -0.0010777 ],\n",
       "       [-0.0382074 ,  0.05068012,  0.00457217,  0.03564384, -0.01120063,\n",
       "         0.00588854, -0.04708248,  0.03430886,  0.01630495, -0.0010777 ],\n",
       "       [ 0.05987114,  0.05068012,  0.07678557,  0.02531523,  0.00118295,\n",
       "         0.01684873, -0.05444576,  0.03430886,  0.02993565,  0.04448548],\n",
       "       [-0.0854304 , -0.04464164, -0.00405033, -0.00911348, -0.00294491,\n",
       "         0.00776743,  0.02286864, -0.03949338, -0.06117659, -0.01350402],\n",
       "       [-0.02367725, -0.04464164,  0.04013997, -0.01255635, -0.00982468,\n",
       "        -0.00100073, -0.00290283, -0.00259226, -0.01190068, -0.03835666],\n",
       "       [ 0.03081083, -0.04464164,  0.10480869,  0.07695828, -0.01120063,\n",
       "        -0.01133463, -0.0581274 ,  0.03430886,  0.05710419,  0.03620126],\n",
       "       [ 0.06713621, -0.04464164, -0.06117437, -0.04009932, -0.02633611,\n",
       "        -0.02448686,  0.03391355, -0.03949338, -0.05615757, -0.05906719],\n",
       "       [ 0.02717829,  0.05068012,  0.01750591, -0.03321357, -0.00707277,\n",
       "         0.04597154, -0.06549067,  0.07120998, -0.09643322, -0.05906719],\n",
       "       [ 0.07440129, -0.04464164,  0.08540807,  0.0631868 ,  0.01494247,\n",
       "         0.01309095,  0.01550536, -0.00259226,  0.00620932,  0.08590655],\n",
       "       [ 0.0090156 ,  0.05068012,  0.01858372,  0.03908671,  0.01769438,\n",
       "         0.01058576,  0.019187  , -0.00259226,  0.01630495, -0.01764612],\n",
       "       [-0.03094232,  0.05068012,  0.05954058,  0.00121513,  0.01219057,\n",
       "         0.03156671, -0.04340085,  0.03430886,  0.01482271,  0.00720652],\n",
       "       [-0.00188202, -0.04464164, -0.05147406, -0.02632784, -0.00844872,\n",
       "        -0.01916334,  0.07441156, -0.03949338, -0.06832974, -0.09220405],\n",
       "       [-0.00914709,  0.05068012, -0.03099563, -0.02632784, -0.01120063,\n",
       "        -0.00100073, -0.02131102, -0.00259226,  0.00620932,  0.02791705],\n",
       "       [ 0.02354575, -0.04464164,  0.06169621,  0.05285819, -0.03459183,\n",
       "        -0.04891244, -0.0286743 , -0.00259226,  0.054724  , -0.0052198 ],\n",
       "       [-0.07816532,  0.05068012,  0.07786339,  0.05285819,  0.0782363 ,\n",
       "         0.0644473 ,  0.02655027, -0.00259226,  0.04067226, -0.00936191],\n",
       "       [-0.04910501,  0.05068012, -0.00512814, -0.04698506, -0.0208323 ,\n",
       "        -0.02041593, -0.06917231,  0.07120998,  0.06123791, -0.03835666],\n",
       "       [-0.02004471, -0.04464164,  0.09726401, -0.00567061, -0.00569682,\n",
       "        -0.02386057, -0.02131102, -0.00259226,  0.06168585,  0.04034337],\n",
       "       [-0.00914709, -0.04464164, -0.06225218, -0.07452802, -0.02358421,\n",
       "        -0.01321352,  0.00446045, -0.03949338, -0.03581673, -0.04664087],\n",
       "       [ 0.07803383,  0.05068012, -0.02452876, -0.04239456,  0.00668676,\n",
       "         0.05286081, -0.06917231,  0.08080427, -0.03712834,  0.0569118 ],\n",
       "       [ 0.00175052, -0.04464164, -0.046085  , -0.03321357, -0.07311851,\n",
       "        -0.08147988,  0.04495846, -0.06938329, -0.06117659, -0.07977773],\n",
       "       [ 0.08166637,  0.05068012, -0.02560657, -0.03665645, -0.07036661,\n",
       "        -0.04640726, -0.03971921, -0.00259226, -0.04118038, -0.0052198 ],\n",
       "       [-0.01277963,  0.05068012, -0.05578531, -0.00222774, -0.02771206,\n",
       "        -0.02918409,  0.019187  , -0.03949338, -0.0170521 ,  0.04448548],\n",
       "       [ 0.04170844,  0.05068012, -0.01590626,  0.01728186, -0.03734373,\n",
       "        -0.01383982, -0.02499266, -0.01107952, -0.04687948,  0.01549073],\n",
       "       [-0.02730979,  0.05068012, -0.01590626, -0.02977071,  0.00393485,\n",
       "        -0.00068758,  0.04127682, -0.03949338, -0.02364456,  0.01134862],\n",
       "       [-0.08906294, -0.04464164, -0.06117437, -0.02632784, -0.05523112,\n",
       "        -0.05454912,  0.04127682, -0.07639451, -0.09393565, -0.05492509],\n",
       "       [-0.01277963, -0.04464164, -0.02345095, -0.04009932, -0.01670444,\n",
       "         0.00463594, -0.01762938, -0.00259226, -0.03845911, -0.03835666],\n",
       "       [-0.00914709,  0.05068012, -0.0277622 ,  0.00810087,  0.04796534,\n",
       "         0.03720338, -0.0286743 ,  0.03430886,  0.0660482 , -0.04249877],\n",
       "       [ 0.02717829, -0.04464164,  0.00672779,  0.03564384,  0.07961226,\n",
       "         0.07071027,  0.01550536,  0.03430886,  0.04067226,  0.01134862],\n",
       "       [ 0.04170844,  0.05068012, -0.04392938,  0.0631868 , -0.00432087,\n",
       "         0.01622244, -0.01394774, -0.00259226, -0.03452371,  0.01134862],\n",
       "       [-0.06000263,  0.05068012,  0.05415152, -0.01944209, -0.04972731,\n",
       "        -0.04891244,  0.02286864, -0.03949338, -0.0439854 , -0.0052198 ],\n",
       "       [-0.02367725,  0.05068012,  0.04552903,  0.02187235,  0.10988322,\n",
       "         0.08887288,  0.00077881,  0.03430886,  0.07419254,  0.06105391],\n",
       "       [-0.0382074 ,  0.05068012,  0.07139651, -0.05731367,  0.1539137 ,\n",
       "         0.15588665,  0.00077881,  0.071948  ,  0.05027649,  0.06933812],\n",
       "       [-0.00551456, -0.04464164,  0.04229559,  0.04941532,  0.02457414,\n",
       "        -0.02386057,  0.07441156, -0.03949338,  0.05228   ,  0.02791705],\n",
       "       [ 0.01264814,  0.05068012,  0.00241654,  0.05630106,  0.02732605,\n",
       "         0.01716188,  0.04127682, -0.03949338,  0.00371174,  0.07348023],\n",
       "       [ 0.04534099,  0.05068012,  0.01966154,  0.03908671,  0.02044629,\n",
       "         0.02593004,  0.00814208, -0.00259226, -0.00330371,  0.01963284],\n",
       "       [-0.06363517, -0.04464164, -0.03315126, -0.03321357,  0.00118295,\n",
       "         0.02405115, -0.02499266, -0.00259226, -0.02251217, -0.05906719]],\n",
       "      dtype=float32)"
      ]
     },
     "execution_count": 26,
     "metadata": {},
     "output_type": "execute_result"
    }
   ],
   "source": [
    "X_test"
   ]
  },
  {
   "cell_type": "code",
   "execution_count": 25,
   "metadata": {},
   "outputs": [
    {
     "data": {
      "image/png": "[encoded data removed]",
      "text/plain": [
       "<Figure size 432x288 with 1 Axes>"
      ]
     },
     "metadata": {
      "needs_background": "light"
     },
     "output_type": "display_data"
    }
   ],
   "source": [
    "import matplotlib.pyplot as plt\n",
    "f = X_test.dot(params['w']) + params['b']\n",
    "\n",
    "plt.scatter(range(X_test.shape[0]), y_test)\n",
    "plt.plot(f, color = 'darkorange')\n",
    "plt.xlabel('X')\n",
    "plt.ylabel('y')\n",
    "plt.show()"
   ]
  },
  {
   "cell_type": "code",
   "execution_count": 27,
   "metadata": {},
   "outputs": [
    {
     "data": {
      "image/png": "[encoded data removed]",
      "text/plain": [
       "<Figure size 432x288 with 1 Axes>"
      ]
     },
     "metadata": {
      "needs_background": "light"
     },
     "output_type": "display_data"
    }
   ],
   "source": [
    "# 训练过程的损失\n",
    "\n",
    "plt.plot(loss_list, color = 'blue')\n",
    "plt.xlabel('epochs')\n",
    "plt.ylabel('loss')\n",
    "plt.show()"
   ]
  },
  {
   "cell_type": "code",
   "execution_count": null,
   "metadata": {},
   "outputs": [],
   "source": []
  }
 ],
 "metadata": {
  "kernelspec": {
   "display_name": "Python 3",
   "language": "python",
   "name": "python3"
  },
  "language_info": {
   "codemirror_mode": {
    "name": "ipython",
    "version": 3
   },
   "file_extension": ".py",
   "mimetype": "text/x-python",
   "name": "python",
   "nbconvert_exporter": "python",
   "pygments_lexer": "ipython3",
   "version": "3.6.6"
  }
 },
 "nbformat": 4,
 "nbformat_minor": 2
}
